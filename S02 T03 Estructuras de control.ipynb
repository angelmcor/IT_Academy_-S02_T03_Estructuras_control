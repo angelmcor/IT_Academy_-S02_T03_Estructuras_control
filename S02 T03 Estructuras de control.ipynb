{
 "cells": [
  {
   "cell_type": "markdown",
   "id": "7d19835e",
   "metadata": {},
   "source": [
    "#### Ángel Martínez\n",
    "\n",
    "# S02 T03 Estructuras de control\n",
    "\n",
    "## Nivell 1\n",
    "\n",
    "### Exercici 1\n",
    "\n",
    "#### L'exercici consisteix a crear un programa que et classifiqui una variable numèrica en funció de l’escala Suspès/Aprovat/Notable/Excel·lent."
   ]
  },
  {
   "cell_type": "code",
   "execution_count": 5,
   "id": "ae76b5ad",
   "metadata": {},
   "outputs": [
    {
     "name": "stdout",
     "output_type": "stream",
     "text": [
      "Indica por favor la nota del alumno: 5\n",
      "Aunque puede mejorar, el alumno ha aprobado, ¡enhorabuena! \n"
     ]
    }
   ],
   "source": [
    "notaAlumno = float(input(\"Indica por favor la nota del alumno: \"))\n",
    "\n",
    "if 0 <= notaAlumno < 5:\n",
    "        print(\"El alumno ha suspendido, pero con esfuerzo conseguirá mejorar, ¡ánimo!\")\n",
    "\n",
    "elif 5 <= notaAlumno < 7:\n",
    "        print(\"Aunque puede mejorar, el alumno ha aprobado, ¡enhorabuena! \")\n",
    "\n",
    "elif 7 <= notaAlumno < 9:\n",
    "        print(\"El alumno ha aprobado con un notable, ¡enhorabuena!\")\n",
    "\n",
    "elif 9 <= notaAlumno <= 10:\n",
    "        print(\"El alumno ha sacado un sobresaliente, ¡enhorabuena, sigue así!\")\n",
    "\n",
    "else:\n",
    "    print(\"La nota introducida está fuera de rango.\")\n"
   ]
  },
  {
   "cell_type": "markdown",
   "id": "168e6d8c",
   "metadata": {},
   "source": [
    "### Exercici 2\n",
    "\n",
    "#### Utilitzant el següent tutorial Programiz: Python Input, Output and Import crea un programa que et pregunti dos números. T’ha de mostrar un missatge dient si el primer és més gran, el segon és més gran o són iguals."
   ]
  },
  {
   "cell_type": "code",
   "execution_count": 6,
   "id": "90ee17e4",
   "metadata": {},
   "outputs": [
    {
     "name": "stdout",
     "output_type": "stream",
     "text": [
      "Indica un número por favor: 5\n",
      "Indica otro número por favor: 1\n",
      "El primer número introducido es mayor\n"
     ]
    }
   ],
   "source": [
    "numUser1 = float(input(\"Indica un número por favor: \"))\n",
    "numUser2 = float(input(\"Indica otro número por favor: \"))\n",
    "\n",
    "if numUser1 < numUser2:\n",
    "    print(\"El segundo número introducido es mayor\")\n",
    "    \n",
    "elif numUser1 > numUser2:\n",
    "    print(\"El primer número introducido es mayor\")\n",
    "\n",
    "elif numUser1 == numUser2:\n",
    "    print(\"Los dos números son iguales\")"
   ]
  },
  {
   "cell_type": "markdown",
   "id": "6646649b",
   "metadata": {},
   "source": [
    "### Exercici 3\n",
    "\n",
    "#### Crea un programa que et pregunti el teu nom, i et demani un número. Si el número és 0, hauria de mostrar un missatge d’error. En cas contrari, hauria de mostrar el nom repetit tants cops com indiqui el número. Per exemple, “Joan Joan Joan”."
   ]
  },
  {
   "cell_type": "code",
   "execution_count": 7,
   "id": "31e8053f",
   "metadata": {},
   "outputs": [
    {
     "name": "stdout",
     "output_type": "stream",
     "text": [
      "Indica tu nombre por favor: a\n",
      "Indica un número entero por favor: 5\n",
      "La secuencia del nombre repetido 5 veces es:\n",
      "a a a a a "
     ]
    }
   ],
   "source": [
    "nombre = input(\"Indica tu nombre por favor: \")\n",
    "numUser = int(input(\"Indica un número entero por favor: \"))\n",
    "\n",
    "while numUser < 0:\n",
    "    numUser = int(input(\"¡Ups! El número introducido tiene que ser positivo, indica uno nuevo: \"))\n",
    "\n",
    "if numUser > 0:\n",
    "    print(\"La secuencia del nombre repetido\", numUser, \"veces es:\")\n",
    "    counter = 0\n",
    "    while (counter < numUser):\n",
    "        print(nombre, end=\" \")\n",
    "        counter +=1"
   ]
  },
  {
   "cell_type": "markdown",
   "id": "cbe518a8",
   "metadata": {},
   "source": [
    "### Exercici 4\n",
    "\n",
    "#### Crea un programa que donada una llista qualsevol, et digui si es simètrica o no. Si ho és, que et digui quants elements té."
   ]
  },
  {
   "cell_type": "code",
   "execution_count": 8,
   "id": "ca5c7c6d",
   "metadata": {},
   "outputs": [
    {
     "name": "stdout",
     "output_type": "stream",
     "text": [
      "The list [7, 8, 9, 3, 0] is not symmetric\n"
     ]
    }
   ],
   "source": [
    "import random\n",
    "\n",
    "A = random.sample(range(0, 10), 5)\n",
    "\n",
    "A_reverse = list(reversed(A))\n",
    "\n",
    "numElements = len(A)\n",
    "\n",
    "if A == A_reverse:\n",
    "    print(\"The list\", A, \"is symmetric and has\", numElements, \"elements\")\n",
    "else:\n",
    "    print(\"The list\", A, \"is not symmetric\")"
   ]
  },
  {
   "cell_type": "markdown",
   "id": "ffa65884",
   "metadata": {},
   "source": [
    "### Exercici 5\n",
    "\n",
    "#### Crea un programa que donada una llista, et digui quants números coincideixen amb la seva posició. Per exemple [3,4,2,0,2,3,6] el 2 i el 6 coincideixen."
   ]
  },
  {
   "cell_type": "code",
   "execution_count": 10,
   "id": "f682add5",
   "metadata": {},
   "outputs": [
    {
     "name": "stdout",
     "output_type": "stream",
     "text": [
      "En la lista [6, 9, 4, 7, 5, 1, 2, 8, 0, 3] no hay ningún elemento que coincida con el valor de su índice\n"
     ]
    }
   ],
   "source": [
    "List5 = random.sample(range(0, 10), 10)\n",
    "\n",
    "counter_coinciden = 0\n",
    "i = 0\n",
    "for i in range(len(List5)):\n",
    "    if List5[i] == i:\n",
    "        print(i, \"coincide con su posición dentro de la lista\", List5)\n",
    "        counter_coinciden += 1\n",
    "\n",
    "if counter_coinciden == 0:\n",
    "    print(\"En la lista\", List5, \"no hay ningún elemento que coincida con el valor de su índice\")\n",
    "else:\n",
    "    print(\"En total\", counter_coinciden, \"elemento/s coinciden\")"
   ]
  }
 ],
 "metadata": {
  "kernelspec": {
   "display_name": "Python 3 (ipykernel)",
   "language": "python",
   "name": "python3"
  },
  "language_info": {
   "codemirror_mode": {
    "name": "ipython",
    "version": 3
   },
   "file_extension": ".py",
   "mimetype": "text/x-python",
   "name": "python",
   "nbconvert_exporter": "python",
   "pygments_lexer": "ipython3",
   "version": "3.9.7"
  }
 },
 "nbformat": 4,
 "nbformat_minor": 5
}
